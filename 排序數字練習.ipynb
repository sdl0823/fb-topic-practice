{
 "cells": [
  {
   "cell_type": "markdown",
   "metadata": {},
   "source": [
    "<ul>\n",
    "    <li>\n",
    "        <h3>基本要求:</h3>\n",
    "        <ul>\n",
    "            <li><code>若使用者輸入的資料為浮點型態，需顯示錯誤訊息提示使用者。</code></li>\n",
    "            <li><code>若使用者輸入的資料為浮點型態，保留整數部分進行排序。</code></li>\n",
    "            <li>輸出資料應為整數型態。</li>\n",
    "            <li>請勿使用串列(list)儲存資料。</li>\n",
    "            <li>禁止使用sort()方法。</li>\n",
    "            <li>禁止呼叫sorted()函數。</li>\n",
    "        </ul>\n",
    "    </li>\n",
    "    <li>\n",
    "        <h3>額外加分:</h3>\n",
    "        <ul>\n",
    "            <li><code>若使用者輸入的資料為浮點型態，顯示錯誤訊息提示使用者，並要求使用者重新輸入。</code></li>\n",
    "        </ul>\n",
    "    </li>\n",
    "</ul>"
   ]
  },
  {
   "cell_type": "code",
   "execution_count": 2,
   "metadata": {},
   "outputs": [
    {
     "name": "stdout",
     "output_type": "stream",
     "text": [
      "請輸入第1個整數:2a\n",
      "您輸入的是2a，不是數字，請重新輸入一個整數\n",
      "請輸入第1個整數:20\n",
      "請輸入第2個整數:30.5\n",
      "您輸入的是30.5是浮點數型態。\n",
      "是否重新輸入:(Y/y:重新輸入)y\n",
      "請輸入第2個整數:30\n",
      "請輸入第3個整數:40.8\n",
      "您輸入的是40.8是浮點數型態。\n",
      "是否重新輸入:(Y/y:重新輸入)n\n",
      "系統為您轉成整數型態:40\n",
      "(20, 30, 40)\n"
     ]
    }
   ],
   "source": [
    "def check_keyin(n):\n",
    "    while True:\n",
    "        num = input(f\"請輸入第{n}個整數:\")\n",
    "        try:\n",
    "            num = int(num)\n",
    "            break\n",
    "        except:\n",
    "            try:\n",
    "                num = float(num)\n",
    "                print(f\"您輸入的是{num}是浮點數型態。\")                \n",
    "                select_type = input(\"是否重新輸入:(Y/y:重新輸入)\")\n",
    "                if select_type == 'Y' or select_type == 'y':\n",
    "                    num = check_keyin(n)\n",
    "                    break\n",
    "                num = int(num)\n",
    "                print(f'系統為您轉成整數型態:{num}')\n",
    "                break\n",
    "            except:        \n",
    "                print(f\"您輸入的是{num}，不是數字，請重新輸入一個整數\")\n",
    "    return num\n",
    "\n",
    "def check_size(num1,num2,num3):\n",
    "    max_n = max(num1,num2,num3)\n",
    "    min_n = min(num1,num2,num3)\n",
    "    if num1 < num2:\n",
    "        if num2 < num3:\n",
    "            n = num2\n",
    "        else:\n",
    "            if num1 < num3:\n",
    "                n = num3\n",
    "            else:\n",
    "                n = num1          \n",
    "    elif num2 < num3:\n",
    "        if num3 < num1:\n",
    "            n = num3\n",
    "        else:\n",
    "            if num2 < num1:\n",
    "                n = num1\n",
    "            else:\n",
    "                n = num2\n",
    "    else:\n",
    "        n = num2\n",
    "            \n",
    "    return min_n,n,max_n\n",
    "\n",
    "num1 = check_keyin(1)\n",
    "num2 = check_keyin(2)\n",
    "num3 = check_keyin(3)\n",
    "sort_num = check_size(num1,num2,num3)\n",
    "print(sort_num)"
   ]
  },
  {
   "cell_type": "code",
   "execution_count": null,
   "metadata": {},
   "outputs": [],
   "source": []
  }
 ],
 "metadata": {
  "kernelspec": {
   "display_name": "Python 3",
   "language": "python",
   "name": "python3"
  },
  "language_info": {
   "codemirror_mode": {
    "name": "ipython",
    "version": 3
   },
   "file_extension": ".py",
   "mimetype": "text/x-python",
   "name": "python",
   "nbconvert_exporter": "python",
   "pygments_lexer": "ipython3",
   "version": "3.8.5"
  }
 },
 "nbformat": 4,
 "nbformat_minor": 4
}
