{
 "cells": [
  {
   "cell_type": "markdown",
   "metadata": {},
   "source": [
    "因為教學需求，全班50位同學要進行分組報告，每五位同學一組，老師規定依分組作號順序，也就是1號到5號一組，6號到10號一組，請寫一個程式允許使用者輸入座號，輸出分組的組別。"
   ]
  },
  {
   "cell_type": "code",
   "execution_count": 1,
   "metadata": {},
   "outputs": [
    {
     "name": "stdout",
     "output_type": "stream",
     "text": [
      "7\n"
     ]
    }
   ],
   "source": [
    "# 標準答案\n",
    "aList = [range(1,6), range(6, 11), range(11, 16), range(16, 21),\n",
    "range(21, 26), range(26, 31), range(31, 36), range(36, 41),\n",
    "range(41, 46), range(46, 51)]\n",
    "# number = int(input('?'))\n",
    "number = 35\n",
    "for i in range(len(aList)):\n",
    "    for j in range(len(aList[i])):\n",
    "        if number == aList[i][j]:\n",
    "            group = i\n",
    "            break\n",
    "            \n",
    "print(group + 1)"
   ]
  },
  {
   "cell_type": "code",
   "execution_count": 2,
   "metadata": {},
   "outputs": [
    {
     "name": "stdout",
     "output_type": "stream",
     "text": [
      "7\n"
     ]
    }
   ],
   "source": [
    "# 標準答案\n",
    "dict = {1:[1, 2, 3, 4, 5], 2:[6, 7, 8, 9, 10], 3:[11, 12, 13, 14, 15],\n",
    "4:[16, 17, 18, 19, 20], 5:[21, 22, 23, 24,25], 6:[26, 27, 28, 29, 30],\n",
    "7:[31, 32, 33, 34, 35], 8:[36, 37, 38, 39, 40], 9:[41, 42, 43, 44, 45],\n",
    "10:[46, 47, 48, 49, 50]}\n",
    "# number = int(input('?'))\n",
    "number = 35\n",
    "for k, v in dict.items():\n",
    "    for i in range(len(v)):\n",
    "        if number == v[i]:\n",
    "            group = k\n",
    "            break\n",
    "            \n",
    "print(group)"
   ]
  },
  {
   "cell_type": "code",
   "execution_count": 3,
   "metadata": {},
   "outputs": [
    {
     "data": {
      "text/plain": [
       "{1: [1, 2, 3, 4, 5],\n",
       " 2: [2, 3, 4, 5, 6],\n",
       " 3: [3, 4, 5, 6, 7],\n",
       " 4: [4, 5, 6, 7, 8],\n",
       " 5: [5, 6, 7, 8, 9],\n",
       " 6: [6, 7, 8, 9, 10],\n",
       " 7: [7, 8, 9, 10, 11],\n",
       " 8: [8, 9, 10, 11, 12],\n",
       " 9: [9, 10, 11, 12, 13],\n",
       " 10: [10, 11, 12, 13, 14]}"
      ]
     },
     "execution_count": 3,
     "metadata": {},
     "output_type": "execute_result"
    }
   ],
   "source": [
    "import numpy as np\n",
    "total_students = 50\n",
    "group_numbers = 5\n",
    "mydict = {gn+1:list(range(gn+1,gn+1+group_numbers)) for gn in range(int(total_students/group_numbers))} # gn:組數,n:學號\n",
    "mydict"
   ]
  },
  {
   "cell_type": "code",
   "execution_count": 4,
   "metadata": {},
   "outputs": [
    {
     "data": {
      "text/plain": [
       "{1: array([1, 2, 3, 4, 5]),\n",
       " 2: array([ 6,  7,  8,  9, 10]),\n",
       " 3: array([11, 12, 13, 14, 15]),\n",
       " 4: array([16, 17, 18, 19, 20]),\n",
       " 5: array([21, 22, 23, 24, 25]),\n",
       " 6: array([26, 27, 28, 29, 30]),\n",
       " 7: array([31, 32, 33, 34, 35]),\n",
       " 8: array([36, 37, 38, 39, 40]),\n",
       " 9: array([41, 42, 43, 44, 45]),\n",
       " 10: array([46, 47, 48, 49, 50])}"
      ]
     },
     "execution_count": 4,
     "metadata": {},
     "output_type": "execute_result"
    }
   ],
   "source": [
    "def digital_recursion(gn,number):\n",
    "    import numpy as np\n",
    "    n = np.array(list(range(1,number+1)))\n",
    "    for i in range(gn):\n",
    "        n = n + 5\n",
    "    return n\n",
    "\n",
    "import numpy as np\n",
    "total_students = 50\n",
    "group_numbers = 5\n",
    "mydict = {gn+1:digital_recursion(gn,group_numbers) for gn in range(int(total_students/group_numbers))} # gn:組數,n:學號\n",
    "mydict"
   ]
  },
  {
   "cell_type": "code",
   "execution_count": 5,
   "metadata": {},
   "outputs": [
    {
     "data": {
      "text/html": [
       "<div>\n",
       "<style scoped>\n",
       "    .dataframe tbody tr th:only-of-type {\n",
       "        vertical-align: middle;\n",
       "    }\n",
       "\n",
       "    .dataframe tbody tr th {\n",
       "        vertical-align: top;\n",
       "    }\n",
       "\n",
       "    .dataframe thead th {\n",
       "        text-align: right;\n",
       "    }\n",
       "</style>\n",
       "<table border=\"1\" class=\"dataframe\">\n",
       "  <thead>\n",
       "    <tr style=\"text-align: right;\">\n",
       "      <th></th>\n",
       "      <th>1</th>\n",
       "      <th>2</th>\n",
       "      <th>3</th>\n",
       "      <th>4</th>\n",
       "      <th>5</th>\n",
       "      <th>6</th>\n",
       "      <th>7</th>\n",
       "      <th>8</th>\n",
       "      <th>9</th>\n",
       "      <th>10</th>\n",
       "    </tr>\n",
       "  </thead>\n",
       "  <tbody>\n",
       "    <tr>\n",
       "      <th>0</th>\n",
       "      <td>1</td>\n",
       "      <td>6</td>\n",
       "      <td>11</td>\n",
       "      <td>16</td>\n",
       "      <td>21</td>\n",
       "      <td>26</td>\n",
       "      <td>31</td>\n",
       "      <td>36</td>\n",
       "      <td>41</td>\n",
       "      <td>46</td>\n",
       "    </tr>\n",
       "    <tr>\n",
       "      <th>1</th>\n",
       "      <td>2</td>\n",
       "      <td>7</td>\n",
       "      <td>12</td>\n",
       "      <td>17</td>\n",
       "      <td>22</td>\n",
       "      <td>27</td>\n",
       "      <td>32</td>\n",
       "      <td>37</td>\n",
       "      <td>42</td>\n",
       "      <td>47</td>\n",
       "    </tr>\n",
       "    <tr>\n",
       "      <th>2</th>\n",
       "      <td>3</td>\n",
       "      <td>8</td>\n",
       "      <td>13</td>\n",
       "      <td>18</td>\n",
       "      <td>23</td>\n",
       "      <td>28</td>\n",
       "      <td>33</td>\n",
       "      <td>38</td>\n",
       "      <td>43</td>\n",
       "      <td>48</td>\n",
       "    </tr>\n",
       "    <tr>\n",
       "      <th>3</th>\n",
       "      <td>4</td>\n",
       "      <td>9</td>\n",
       "      <td>14</td>\n",
       "      <td>19</td>\n",
       "      <td>24</td>\n",
       "      <td>29</td>\n",
       "      <td>34</td>\n",
       "      <td>39</td>\n",
       "      <td>44</td>\n",
       "      <td>49</td>\n",
       "    </tr>\n",
       "    <tr>\n",
       "      <th>4</th>\n",
       "      <td>5</td>\n",
       "      <td>10</td>\n",
       "      <td>15</td>\n",
       "      <td>20</td>\n",
       "      <td>25</td>\n",
       "      <td>30</td>\n",
       "      <td>35</td>\n",
       "      <td>40</td>\n",
       "      <td>45</td>\n",
       "      <td>50</td>\n",
       "    </tr>\n",
       "  </tbody>\n",
       "</table>\n",
       "</div>"
      ],
      "text/plain": [
       "   1   2   3   4   5   6   7   8   9   10\n",
       "0   1   6  11  16  21  26  31  36  41  46\n",
       "1   2   7  12  17  22  27  32  37  42  47\n",
       "2   3   8  13  18  23  28  33  38  43  48\n",
       "3   4   9  14  19  24  29  34  39  44  49\n",
       "4   5  10  15  20  25  30  35  40  45  50"
      ]
     },
     "execution_count": 5,
     "metadata": {},
     "output_type": "execute_result"
    }
   ],
   "source": [
    "def digital_recursion(gn,number):\n",
    "    import numpy as np\n",
    "    n = np.array(list(range(1,number+1)))\n",
    "    for i in range(gn):\n",
    "        n = n + 5\n",
    "    return n\n",
    "\n",
    "import pandas as pd\n",
    "total_students = 50\n",
    "group_numbers = 5\n",
    "mydict = {gn+1:digital_recursion(gn,group_numbers) for gn in range(int(total_students/group_numbers))} # gn:組數,n:學號\n",
    "df = pd.DataFrame(mydict)\n",
    "df"
   ]
  },
  {
   "cell_type": "code",
   "execution_count": 6,
   "metadata": {},
   "outputs": [
    {
     "name": "stdout",
     "output_type": "stream",
     "text": [
      "分組查詢系統:\n",
      "全班人數:50人\n",
      "請輸入您的班級座號:35\n",
      "感謝您的使用本系統:您是第7組成員\n"
     ]
    }
   ],
   "source": [
    "def digital_recursion(gn,number):\n",
    "    import numpy as np\n",
    "    n = np.array(list(range(1,number+1)))\n",
    "    for i in range(gn):\n",
    "        n = n + 5\n",
    "    return n\n",
    "\n",
    "total_students = 50\n",
    "group_numbers = 5\n",
    "number = int(input(f'分組查詢系統:\\n全班人數:{total_students}人\\n請輸入您的班級座號:'))\n",
    "#number = 35\n",
    "mydict = {gn+1:digital_recursion(gn,group_numbers) for gn in range(int(total_students/group_numbers))} # gn:組數,n:學號\n",
    "\n",
    "for k,v in mydict.items():\n",
    "    #print(f'k={k},v={v}')\n",
    "    for i in range(len(v)):\n",
    "        if number == v[i]:\n",
    "            group = k\n",
    "print(f'感謝您的使用本系統:您是第{group}組成員')"
   ]
  },
  {
   "cell_type": "code",
   "execution_count": null,
   "metadata": {},
   "outputs": [],
   "source": []
  }
 ],
 "metadata": {
  "kernelspec": {
   "display_name": "Python 3",
   "language": "python",
   "name": "python3"
  },
  "language_info": {
   "codemirror_mode": {
    "name": "ipython",
    "version": 3
   },
   "file_extension": ".py",
   "mimetype": "text/x-python",
   "name": "python",
   "nbconvert_exporter": "python",
   "pygments_lexer": "ipython3",
   "version": "3.8.5"
  }
 },
 "nbformat": 4,
 "nbformat_minor": 4
}
