{
 "cells": [
  {
   "cell_type": "markdown",
   "metadata": {},
   "source": [
    "範例輸入1:<p>\n",
    "    <ul>fibonacci(10)</ul>\n",
    "範例輸出1:<p>\n",
    "    <ul>[0, 1, 1, 2, 3, 5, 8, 13, 21, 34]</ul>\n",
    "範例輸入2:<p>\n",
    "    <ul>fibonacci(20)</ul>\n",
    "範例輸出2:<p>\n",
    "    <ul>[0, 1, 1, 2, 3, 5, 8, 13, 21, 34, 55, 89, 144, 233, 377, 610, 987, 1597, 2584, 4181]</ul>"
   ]
  },
  {
   "cell_type": "code",
   "execution_count": 1,
   "metadata": {},
   "outputs": [
    {
     "name": "stdout",
     "output_type": "stream",
     "text": [
      "How many Fibonacci numbers do you want? 5\n",
      "[0, 1, 1, 2, 3]\n"
     ]
    }
   ],
   "source": [
    "fibs = [0, 1]\n",
    "numZS = int(input('How many Fibonacci numbers do you want? '))\n",
    "for i in range(numZS-2):\n",
    "    fibs.append(fibs[-2] + fibs[-1])\n",
    "print(fibs)"
   ]
  },
  {
   "cell_type": "code",
   "execution_count": 2,
   "metadata": {},
   "outputs": [
    {
     "name": "stdout",
     "output_type": "stream",
     "text": [
      "How many Fibonacci numbers do you want? 20\n",
      "[0, 1, 1, 2, 3, 5, 8, 13, 21, 34, 55, 89, 144, 233, 377, 610, 987, 1597, 2584, 4181]\n"
     ]
    }
   ],
   "source": [
    "def fibonacci(num):    \n",
    "    for i in range(num-2):\n",
    "        fibs.append(fibs[-2] + fibs[-1])\n",
    "    print(fibs)\n",
    "    \n",
    "fibs = [0, 1]\n",
    "numZS = int(input('How many Fibonacci numbers do you want? '))\n",
    "fibonacci(numZS)"
   ]
  },
  {
   "cell_type": "markdown",
   "metadata": {},
   "source": [
    "<h2>參考WiKi修改</h2>\n",
    "<ul><p>參考網址:<a href=https://zh.wikipedia.org/wiki/%E6%96%90%E6%B3%A2%E9%82%A3%E5%A5%91%E6%95%B0?fbclid=IwAR3TUEtaIIY38Us0e26epQ1r7feUEOOvdlOkLitWbe7RMAAGOIQ5nghAmTw>斐波那契數列</a></p></ul>"
   ]
  },
  {
   "cell_type": "code",
   "execution_count": 3,
   "metadata": {},
   "outputs": [
    {
     "name": "stdout",
     "output_type": "stream",
     "text": [
      "0 1 1 2 3 \n",
      "0 1 1 2 3 5 8 13 21 34 55 89 144 233 377 610 987 1597 2584 4181 \n"
     ]
    }
   ],
   "source": [
    "def fib(n):    # write Fibonacci series up to n\n",
    "    a, b = 0, 1\n",
    "    print(a, end=' ')\n",
    "    while b < n:\n",
    "        print(b, end=' ')\n",
    "        a, b = b, a+b\n",
    "    print()\n",
    "    \n",
    "fib(5)\n",
    "fib(4182)"
   ]
  },
  {
   "cell_type": "code",
   "execution_count": 4,
   "metadata": {},
   "outputs": [
    {
     "name": "stdout",
     "output_type": "stream",
     "text": [
      "[0, 1, 1, 2, 3]\n",
      "[0, 1, 1, 2, 3, 5, 8, 13, 21, 34, 55, 89, 144, 233, 377, 610, 987, 1597, 2584, 4181]\n"
     ]
    }
   ],
   "source": [
    "def fib2(n):   # return Fibonacci series up to n\n",
    "    result = [0]\n",
    "    a, b = 0, 1\n",
    "    while b < n:\n",
    "        result.append(b)\n",
    "        a, b = b, a+b\n",
    "    return result\n",
    "\n",
    "print(fib2(5))\n",
    "print(fib2(4182))"
   ]
  },
  {
   "cell_type": "markdown",
   "metadata": {},
   "source": [
    "<h2>老師的程式碼</h2>"
   ]
  },
  {
   "cell_type": "code",
   "execution_count": 5,
   "metadata": {},
   "outputs": [
    {
     "name": "stdout",
     "output_type": "stream",
     "text": [
      "How many Fibonacci number do you want？ 10\n",
      "[0, 1, 1, 2, 3, 5, 8, 13, 21, 34]\n"
     ]
    }
   ],
   "source": [
    "def fibonacci_iter(n):\n",
    "    xList = []\n",
    "    a=1\n",
    "    b=1\n",
    "    if n==1:\n",
    "        print('0')\n",
    "    elif n==2:\n",
    "        print('0','1')\n",
    "    else:\n",
    "        xList.append(0)\n",
    "        xList.append(a)\n",
    "        xList.append(b)\n",
    "        \n",
    "    for i in range(n-3):\n",
    "        total = a + b\n",
    "        b=a\n",
    "        a= total\n",
    "        xList.append(total)\n",
    "    return xList\n",
    "\n",
    "numZS = int(input('How many Fibonacci number do you want？ '))\n",
    "aList = fibonacci_iter(numZS)\n",
    "print(aList)"
   ]
  },
  {
   "cell_type": "code",
   "execution_count": 6,
   "metadata": {},
   "outputs": [
    {
     "name": "stdout",
     "output_type": "stream",
     "text": [
      "How many Fibonacci number do you want？ 20\n",
      "[0, 1, 1, 2, 3, 5, 8, 13, 21, 34, 55, 89, 144, 233, 377, 610, 987, 1597, 2584, 4181]\n"
     ]
    }
   ],
   "source": [
    "from math import sqrt\n",
    "def f(n):\n",
    "    return int(((1+sqrt(5))**n-(1-sqrt(5))**n)/(2**n*sqrt(5)))\n",
    "\n",
    "def fibonacci(number):\n",
    "    xList = []\n",
    "    for i in range(number):\n",
    "        xList.append(f(i))\n",
    "    return xList\n",
    "\n",
    "numZS = int(input('How many Fibonacci number do you want？ '))\n",
    "aList = fibonacci(numZS)\n",
    "print(aList)"
   ]
  },
  {
   "cell_type": "code",
   "execution_count": null,
   "metadata": {},
   "outputs": [],
   "source": []
  }
 ],
 "metadata": {
  "kernelspec": {
   "display_name": "Python 3",
   "language": "python",
   "name": "python3"
  },
  "language_info": {
   "codemirror_mode": {
    "name": "ipython",
    "version": 3
   },
   "file_extension": ".py",
   "mimetype": "text/x-python",
   "name": "python",
   "nbconvert_exporter": "python",
   "pygments_lexer": "ipython3",
   "version": "3.8.5"
  }
 },
 "nbformat": 4,
 "nbformat_minor": 4
}
